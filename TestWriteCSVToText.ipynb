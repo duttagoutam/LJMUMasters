{
  "nbformat": 4,
  "nbformat_minor": 0,
  "metadata": {
    "colab": {
      "name": "TestWriteCSVToText.ipynb",
      "provenance": [],
      "include_colab_link": true
    },
    "kernelspec": {
      "name": "python3",
      "display_name": "Python 3"
    },
    "accelerator": "GPU"
  },
  "cells": [
    {
      "cell_type": "markdown",
      "metadata": {
        "id": "view-in-github",
        "colab_type": "text"
      },
      "source": [
        "<a href=\"https://colab.research.google.com/github/duttagoutam/LJMUMasters/blob/master/TestWriteCSVToText.ipynb\" target=\"_parent\"><img src=\"https://colab.research.google.com/assets/colab-badge.svg\" alt=\"Open In Colab\"/></a>"
      ]
    },
    {
      "cell_type": "code",
      "metadata": {
        "id": "Mb5oWmT3JxjL",
        "colab_type": "code",
        "colab": {
          "base_uri": "https://localhost:8080/",
          "height": 122
        },
        "outputId": "a8481422-298d-4b2c-9f1d-8bee70b50653"
      },
      "source": [
        "from google.colab import drive\n",
        "drive.mount('/content/drive/')"
      ],
      "execution_count": 1,
      "outputs": [
        {
          "output_type": "stream",
          "text": [
            "Go to this URL in a browser: https://accounts.google.com/o/oauth2/auth?client_id=947318989803-6bn6qk8qdgf4n4g3pfee6491hc0brc4i.apps.googleusercontent.com&redirect_uri=urn%3Aietf%3Awg%3Aoauth%3A2.0%3Aoob&scope=email%20https%3A%2F%2Fwww.googleapis.com%2Fauth%2Fdocs.test%20https%3A%2F%2Fwww.googleapis.com%2Fauth%2Fdrive%20https%3A%2F%2Fwww.googleapis.com%2Fauth%2Fdrive.photos.readonly%20https%3A%2F%2Fwww.googleapis.com%2Fauth%2Fpeopleapi.readonly&response_type=code\n",
            "\n",
            "Enter your authorization code:\n",
            "··········\n",
            "Mounted at /content/drive/\n"
          ],
          "name": "stdout"
        }
      ]
    },
    {
      "cell_type": "code",
      "metadata": {
        "id": "OKA3fP9AKWXv",
        "colab_type": "code",
        "colab": {}
      },
      "source": [
        "import sys, time, os, warnings \n",
        "import numpy as np\n",
        "import pandas as pd"
      ],
      "execution_count": 0,
      "outputs": []
    },
    {
      "cell_type": "code",
      "metadata": {
        "id": "jgszOi2us7AR",
        "colab_type": "code",
        "colab": {}
      },
      "source": [
        "# load doc into memory\n",
        "def load_doc(filename):\n",
        "    # open the file as read only\n",
        "    file = open(filename, 'r')\n",
        "    # read all text\n",
        "    text = file.read()\n",
        "    # close the file\n",
        "    file.close()\n",
        "    return text"
      ],
      "execution_count": 0,
      "outputs": []
    },
    {
      "cell_type": "code",
      "metadata": {
        "id": "5nWtypRDs-yy",
        "colab_type": "code",
        "colab": {}
      },
      "source": [
        "# load a pre-defined list of photo identifiers\n",
        "def load_set(filename):\n",
        "    doc = load_doc(filename)\n",
        "    dataset = list()\n",
        "    # process line by line\n",
        "    for line in doc.split('\\n'):\n",
        "        #print(\"line:\",line)\n",
        "        # skip empty lines\n",
        "        if len(line) < 1:\n",
        "            continue\n",
        "        # get the image identifier\n",
        "        identifier = line.split('.')[0]\n",
        "        #print(\"identifier:\", identifier)\n",
        "        dataset.append(identifier)\n",
        "    return set(dataset)"
      ],
      "execution_count": 0,
      "outputs": []
    },
    {
      "cell_type": "code",
      "metadata": {
        "id": "67w99MfgKJHo",
        "colab_type": "code",
        "colab": {}
      },
      "source": [
        "# read csv file\n",
        "def write_file_description(filename):\n",
        "    # df = pd.read_csv(filename)\n",
        "    pd.set_option('display.max_colwidth', 1000)\n",
        "    df = pd.read_csv(filename, header=None, sep='|', skiprows=1, skipinitialspace=True, encoding=\"utf-8\") #  , encoding='iso-8859-1', dtype=str\n",
        "    df=df.head(16)\n",
        "\n",
        "    df = df[:].apply(lambda file: file.str.strip())\n",
        "    print(df)\n",
        "    #df1[0] = df1[0].str.strip()\n",
        "    #df1[1] = df1[1].str.strip()\n",
        "    #df1[2] = df1[2].str.strip()\n",
        "    #df1[3] = df1[3].map(lambda x: x.lstrip('.').rstrip('aAbBcC'))\n",
        "    #print(df1)\n",
        "    #np.savetxt(folderName+'/'+'flickr30knew.token.txt', df.values, delimiter =' ') \n",
        "    #print(df)\n",
        "    # open the file as append only\n",
        "    file = open(folderName+'/'+'flickr30k.testtoken.txt', 'w')\n",
        "    # read all text\n",
        "    #text = df1.to_string(index=False, header=False, index_names=False) #.split('\\n')\n",
        "   \n",
        "    text = df.to_string(index=False, header=False, index_names=False, justify='left').strip() #.split('\\n')\n",
        "    # vals = [','.join(ele.split()) for ele in text]\n",
        "    \n",
        "    #print(vals)\n",
        "    #print (text)\n",
        "    # write the file\n",
        "    file.write(text)\n",
        "    #file.write(''.join([str(x) for x in text]))\n",
        "    # close the file\n",
        "    file.close()"
      ],
      "execution_count": 0,
      "outputs": []
    },
    {
      "cell_type": "code",
      "metadata": {
        "id": "vs8aUFPfcQ5c",
        "colab_type": "code",
        "colab": {}
      },
      "source": [
        "import csv\n",
        "\n",
        "def write_csvfile(filename):\n",
        "  #output = open(folderName+'/'+'flickr30k.testcsv.txt','w')\n",
        "\n",
        "  #with open(filename,\"rt\", encoding='iso-8859-1') as f:\n",
        "    #for row in f:\n",
        "    #for row in f:\n",
        "        #row.strip('|')\n",
        "        #tokens = row.split('|')\n",
        "        #print(tokens)\n",
        "        #output.write(row)\n",
        "  #output.close()\n",
        "  \n",
        "  \n",
        "  doc = load_doc(filename)\n",
        "  doc = doc[]\n",
        "  for line in doc.split('\\n'):\n",
        "    # split line by white space\n",
        "    tokens = line.split()\n",
        "    #print(\"tokens:\",tokens)\n",
        "    # split id from description\n",
        "    image_id, image_subid, image_desc = tokens[0], tokens[1], tokens[2:]\n",
        "    imageid = str(image_id).strip('|')\n",
        "    imagesubid = str(image_subid).strip('|')\n",
        "    imagedesc = str(image_desc).strip('|')\n",
        "    #imageid = imageid.strip()\n",
        "    #imagesubid = imagesubid.strip()\n",
        "    #imagedesc = imagedesc.strip()\n",
        "    print(\"image id:\", imageid)\n",
        "    print(\"image subid:\", imagesubid)\n",
        "    print(\"image desc:\", imagedesc)\n",
        "    output.write(imageid+' '+imagesubid+' '+imagedesc)\n",
        "  output.close()"
      ],
      "execution_count": 0,
      "outputs": []
    },
    {
      "cell_type": "code",
      "metadata": {
        "id": "HrszORrvxnsn",
        "colab_type": "code",
        "colab": {}
      },
      "source": [
        "import csv\n",
        "\n",
        "def write_csvtotext(filename):\n",
        "  \n",
        "  output=open(folderName+'/'+'flickr30k.testcsv.txt','w')\n",
        "\n",
        "  with open(filename,\"rt\", encoding='utf-8') as f:\n",
        "      f.readline()\n",
        "      lines = [line.replace('|', '').replace('.', '').strip() + '\\n' for line in f.readlines()]\n",
        "      for l in lines:\n",
        "          output.write(l)\n",
        "  output.close()"
      ],
      "execution_count": 0,
      "outputs": []
    },
    {
      "cell_type": "code",
      "metadata": {
        "id": "QObWBZmxJ2DK",
        "colab_type": "code",
        "colab": {
          "base_uri": "https://localhost:8080/",
          "height": 34
        },
        "outputId": "984cf9f4-2a40-4f02-adb2-ecbadddb7083"
      },
      "source": [
        "# Not To Run Always\n",
        "folderName='/content/drive/My Drive/App/storage/flickr30k_images'\n",
        "imageDir=folderName+'/Images'\n",
        "filename = folderName+'/'+'results.csv'\n",
        "# write description\n",
        "#write_file_description(filename)\n",
        "write_csvtotext(filename)\n",
        "print(\"File Written\")"
      ],
      "execution_count": 11,
      "outputs": [
        {
          "output_type": "stream",
          "text": [
            "File Written\n"
          ],
          "name": "stdout"
        }
      ]
    },
    {
      "cell_type": "code",
      "metadata": {
        "id": "2ThXY7nyUZki",
        "colab_type": "code",
        "colab": {}
      },
      "source": [
        "# load clean descriptions into memory\n",
        "def load_clean_descriptions(filename, dataset):\n",
        "    # load document\n",
        "    doc = load_doc(filename)\n",
        "    descriptions = dict()\n",
        "    for line in doc.split('\\n'):\n",
        "        # split line by white space\n",
        "        tokens = line.split()\n",
        "        print(\"tokens:\",tokens)\n",
        "        # split id from description\n",
        "        image_id, image_desc = tokens[0], tokens[2:]\n",
        "        #print(\"image_id:\", image_id)\n",
        "        #print(\"image_desc:\", image_desc)\n",
        "        # print(len(dataset))\n",
        "        # skip images not in the set\n",
        "        if image_id in dataset:\n",
        "            # create list\n",
        "            print(\"image_id:\", image_id)\n",
        "            if image_id not in descriptions:\n",
        "                #print(\"image_id not in descriptions\")\n",
        "                descriptions[image_id] = list()\n",
        "            # wrap description in tokens\n",
        "            desc = 'startseq ' + ' '.join(image_desc) + ' endseq'\n",
        "            #print(\"image_desc:\", desc)\n",
        "            # store\n",
        "            descriptions[image_id].append(desc)\n",
        "        break\n",
        "    return descriptions"
      ],
      "execution_count": 0,
      "outputs": []
    },
    {
      "cell_type": "code",
      "metadata": {
        "id": "2nAmXs8nP96I",
        "colab_type": "code",
        "colab": {
          "base_uri": "https://localhost:8080/",
          "height": 68
        },
        "outputId": "f94dcc6e-9994-490c-d147-1182676fb99c"
      },
      "source": [
        "# load dev set\n",
        "folderName='/content/drive/My Drive/App/storage/flickr30k_images'\n",
        "imageDir=folderName+'/Images'\n",
        "#filename = folderName+'/results.csv'\n",
        "filename = folderName+'/'+'flickr30k.testcsv.txt'\n",
        "dataset = load_set(filename)\n",
        "#print(dataset)\n",
        "print('Dataset: %d' % len(dataset))\n",
        "# descriptions\n",
        "test_descriptions = load_clean_descriptions(folderName+'/clean30kdescriptions.txt', dataset)\n",
        "print('Descriptions: test=%d' % len(test_descriptions))"
      ],
      "execution_count": 20,
      "outputs": [
        {
          "output_type": "stream",
          "text": [
            "Dataset: 158915\n",
            "tokens: ['1000092795jpg', 'two', 'young', 'guys', 'with', 'shaggy', 'hair', 'look', 'at', 'their', 'hands', 'while', 'hanging', 'out', 'in', 'the', 'yard']\n",
            "Descriptions: test=0\n"
          ],
          "name": "stdout"
        }
      ]
    }
  ]
}